{
 "metadata": {
  "name": "",
  "signature": "sha256:4457c8e698308144b22bae2dcedbb1c332180de548af2dff753999ec24c686d6"
 },
 "nbformat": 3,
 "nbformat_minor": 0,
 "worksheets": [
  {
   "cells": [
    {
     "cell_type": "markdown",
     "metadata": {},
     "source": [
      "#jHeatmap heatmap viewer for IPython Notebook\n",
      "\n",
      "---------------------------------------------------------\n",
      "\n",
      "Make sure all dependencies are installed: \n",
      " - `python3`, \n",
      " - `ipython-notebook` v2 \n",
      " - `python-pandas`\n"
     ]
    },
    {
     "cell_type": "code",
     "collapsed": false,
     "input": [
      "import pandas as pd\n",
      "from jheatmap import JHeatmap"
     ],
     "language": "python",
     "metadata": {},
     "outputs": [
      {
       "javascript": [
        "require([\"widgets/js/manager\", \"jheatmap/dependencies/jheatmap/js/jheatmap-1.0.0.js\", \"jheatmap/widget_jheatmap.js\"],\n",
        "function(WidgetManager){\n",
        "    // Register the widget with the widget manager.\n",
        "    var widget = getJHeatmapWidgetInstance(WidgetManager);\n",
        "    WidgetManager.register_widget_view('JHeatmapWidget', widget);\n",
        "});"
       ],
       "metadata": {},
       "output_type": "display_data",
       "text": [
        "<IPython.core.display.Javascript at 0x7fbdd404d710>"
       ]
      }
     ],
     "prompt_number": 1
    },
    {
     "cell_type": "markdown",
     "metadata": {},
     "source": [
      "### Step 1: loading data\n",
      "\n",
      "With `pandas.DataFrame` we read in a tabulated data file with genomic information from cancer samples"
     ]
    },
    {
     "cell_type": "code",
     "collapsed": false,
     "input": [
      "values_df = pd.read_csv(\"data/genomic-alterations.tsv\", sep=\"\\t\", na_values=\"-\")\n",
      "print(values_df.shape)\n",
      "values_df[values_df.CNA_Status >= -2].head()\n"
     ],
     "language": "python",
     "metadata": {},
     "outputs": [
      {
       "output_type": "stream",
       "stream": "stdout",
       "text": [
        "(14946, 5)\n"
       ]
      },
      {
       "html": [
        "<div style=\"max-height:1000px;max-width:1500px;overflow:auto;\">\n",
        "<table border=\"1\" class=\"dataframe\">\n",
        "  <thead>\n",
        "    <tr style=\"text-align: right;\">\n",
        "      <th></th>\n",
        "      <th>samples</th>\n",
        "      <th>symbol</th>\n",
        "      <th>Mutation</th>\n",
        "      <th>CNA_Status</th>\n",
        "      <th>Expression</th>\n",
        "    </tr>\n",
        "  </thead>\n",
        "  <tbody>\n",
        "    <tr>\n",
        "      <th>19 </th>\n",
        "      <td> TCGA-02-0047</td>\n",
        "      <td> CDKN2A</td>\n",
        "      <td> 0</td>\n",
        "      <td>-2</td>\n",
        "      <td>-0.074</td>\n",
        "    </tr>\n",
        "    <tr>\n",
        "      <th>316</th>\n",
        "      <td> TCGA-02-2485</td>\n",
        "      <td>   EGFR</td>\n",
        "      <td> 1</td>\n",
        "      <td> 2</td>\n",
        "      <td> 3.900</td>\n",
        "    </tr>\n",
        "    <tr>\n",
        "      <th>350</th>\n",
        "      <td> TCGA-02-2485</td>\n",
        "      <td>    KIT</td>\n",
        "      <td> 0</td>\n",
        "      <td> 2</td>\n",
        "      <td> 1.897</td>\n",
        "    </tr>\n",
        "    <tr>\n",
        "      <th>376</th>\n",
        "      <td> TCGA-02-2485</td>\n",
        "      <td> PDGFRA</td>\n",
        "      <td> 0</td>\n",
        "      <td> 2</td>\n",
        "      <td> 3.972</td>\n",
        "    </tr>\n",
        "    <tr>\n",
        "      <th>457</th>\n",
        "      <td> TCGA-06-0132</td>\n",
        "      <td>   EGFR</td>\n",
        "      <td> 0</td>\n",
        "      <td> 2</td>\n",
        "      <td> 1.228</td>\n",
        "    </tr>\n",
        "  </tbody>\n",
        "</table>\n",
        "<p>5 rows \u00d7 5 columns</p>\n",
        "</div>"
       ],
       "metadata": {},
       "output_type": "pyout",
       "prompt_number": 2,
       "text": [
        "          samples  symbol  Mutation  CNA_Status  Expression\n",
        "19   TCGA-02-0047  CDKN2A         0          -2      -0.074\n",
        "316  TCGA-02-2485    EGFR         1           2       3.900\n",
        "350  TCGA-02-2485     KIT         0           2       1.897\n",
        "376  TCGA-02-2485  PDGFRA         0           2       3.972\n",
        "457  TCGA-06-0132    EGFR         0           2       1.228\n",
        "\n",
        "[5 rows x 5 columns]"
       ]
      }
     ],
     "prompt_number": 2
    },
    {
     "cell_type": "markdown",
     "metadata": {},
     "source": [
      "### Step 2: display heatmap\n",
      "\n",
      "With the DataFrame we create a JHeatmap, indiciating which values we want to see in columns and rows and create a view.\n",
      "\n",
      "It is possible to **select** rows & columns, **change the values** which are shown in the cell via the dropboxes displayed at the top left of the heatmap.\n",
      "\n",
      "To **zoom** the rows and columns by placing the mouse above the identifiers and using `Shift`+`Scrolling gesture`."
     ]
    },
    {
     "cell_type": "code",
     "collapsed": false,
     "input": [
      "jh = JHeatmap(values_df,rows=[\"symbol\"],cols=[\"samples\"])\n",
      "jh.show()"
     ],
     "language": "python",
     "metadata": {},
     "outputs": [],
     "prompt_number": 4
    },
    {
     "cell_type": "code",
     "collapsed": false,
     "input": [
      "jh.close()"
     ],
     "language": "python",
     "metadata": {},
     "outputs": [],
     "prompt_number": 4
    },
    {
     "cell_type": "markdown",
     "metadata": {},
     "source": [
      "### Step 3: Customizing value-color mapping (decorators)\n",
      "\n",
      "By passing the JavaScript functions to the `JHeatmap` instance we can configure beforehand how the colors shall be represented. The **decorators** available are Categorical, Linear, Pvalue etc. You may see all that are available at the <http://jheatmap.github.io/jheatmap/>\n",
      "\n",
      "For our data we will choose: \n",
      " - `Categorical` for Mutatations. 1.0 equals mutated, 0.0 or NaN no recorded mutation\n",
      " - `Categorical` for CNA Status as 2.0 means multi-copy gain and -2.0 homozygous loss.\n",
      " - `Heat` for Expression status as negative and positive values stand for few or high gene expression and 0 means normal expression status."
     ]
    },
    {
     "cell_type": "code",
     "collapsed": false,
     "input": [
      "init_config = \"heatmap.cells.decorators['Mutation'] = new jheatmap.decorators.Categorical({ \\\n",
      "                                values: ['0.0','1.0'],  \\\n",
      "                                colors : ['white','green'] \\\n",
      "                }); \\\n",
      "               heatmap.cells.decorators['CNA_Status'] = new jheatmap.decorators.Categorical({\\\n",
      "                               values: ['-2.0', '2.0'], \\\n",
      "                               colors : ['pink', 'orange']}); \\\n",
      "               heatmap.cells.decorators['Expression'] = new jheatmap.decorators.Heat({ \\\n",
      "                                minValue: -2, \\\n",
      "                                midValue: 0, \\\n",
      "                                maxValue: 2, \\\n",
      "                                minColor: [85, 0, 136], \\\n",
      "                                nullColor: [255,255,255], \\\n",
      "                                maxColor: [255, 204, 0], \\\n",
      "                                midColor: [240,240,240] \\\n",
      "                });\"\n",
      "\n"
     ],
     "language": "python",
     "metadata": {},
     "outputs": [],
     "prompt_number": 5
    },
    {
     "cell_type": "code",
     "collapsed": false,
     "input": [
      "jh = JHeatmap(values_df,rows=[\"symbol\"],cols=[\"samples\"], init_config=init_config)\n",
      "jh.show()"
     ],
     "language": "python",
     "metadata": {},
     "outputs": [
      {
       "javascript": [
        "require([\"widgets/js/manager\", \"jheatmap/dependencies/jheatmap/js/jheatmap-1.0.0.js\", \"jheatmap/widget_jheatmap.js\"],\n",
        "function(WidgetManager){\n",
        "    // Register the widget with the widget manager.\n",
        "    var widget = getJHeatmapWidgetInstance(WidgetManager);\n",
        "    WidgetManager.register_widget_view('JHeatmapWidget', widget);\n",
        "});"
       ],
       "metadata": {},
       "output_type": "display_data",
       "text": [
        "<IPython.core.display.Javascript at 0x7f6425a72790>"
       ]
      }
     ],
     "prompt_number": 6
    },
    {
     "cell_type": "markdown",
     "metadata": {},
     "source": [
      "It is also possible to change the decoraters after creating the heatmap by running some JavaScript on the heatmap:"
     ]
    },
    {
     "cell_type": "code",
     "collapsed": false,
     "input": [
      "jh.exec_js(\"heatmap.cells.decorators['Mutation'] = new jheatmap.decorators.Categorical({ \\\n",
      "                                values: ['0.0','1.0'],  \\\n",
      "                                colors : ['lightgrey','blue'], \\\n",
      "                                unknown : 'lightgrey' \\\n",
      "                }); \\\n",
      "           heatmap.cells.reindex(heatmap);\")\n"
     ],
     "language": "python",
     "metadata": {},
     "outputs": [],
     "prompt_number": 7
    },
    {
     "cell_type": "code",
     "collapsed": false,
     "input": [
      "jh.close()"
     ],
     "language": "python",
     "metadata": {},
     "outputs": [],
     "prompt_number": 8
    },
    {
     "cell_type": "markdown",
     "metadata": {},
     "source": [
      "### End of tutorial\n",
      "-------------------------------------------------------------------------"
     ]
    },
    {
     "cell_type": "code",
     "collapsed": false,
     "input": [
      "from IPython.html import widgets\n",
      "from IPython.display import display, Javascript\n",
      "\n",
      "modalJH = JHeatmap(values_df,rows=[\"symbol\"],cols=[\"samples\"])\n",
      "popup = widgets.PopupWidget()\n",
      "popup.description = \"JHeatmap\"\n",
      "popup.button_text = \"Show heatmap\"\n",
      "#popup.set_css({'width': '420px', 'height': '350px'}, selector='modal')\n",
      "popup.children = [modalJH]\n",
      "display(popup)\n"
     ],
     "language": "python",
     "metadata": {},
     "outputs": [],
     "prompt_number": 9
    },
    {
     "cell_type": "code",
     "collapsed": false,
     "input": [
      "display(popup)\n"
     ],
     "language": "python",
     "metadata": {},
     "outputs": [],
     "prompt_number": 10
    },
    {
     "cell_type": "code",
     "collapsed": false,
     "input": [],
     "language": "python",
     "metadata": {},
     "outputs": []
    }
   ],
   "metadata": {}
  }
 ]
}