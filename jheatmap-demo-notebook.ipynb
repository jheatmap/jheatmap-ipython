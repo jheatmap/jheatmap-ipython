{
 "metadata": {
  "name": "",
  "signature": "sha256:6fbcb5a86851c43a019ee502f292a7687a61d2e632c69c5ca747a7ee5a477fca"
 },
 "nbformat": 3,
 "nbformat_minor": 0,
 "worksheets": [
  {
   "cells": [
    {
     "cell_type": "code",
     "collapsed": false,
     "input": [
      "import pandas as pd\n",
      "values_df = pd.read_csv(\"data/genomic-alterations.tsv\", sep=\"\\t\", na_values=\"-\")\n",
      "print(values_df.shape)\n",
      "values_df.head()\n",
      "\n",
      "\n"
     ],
     "language": "python",
     "metadata": {},
     "outputs": [
      {
       "output_type": "stream",
       "stream": "stdout",
       "text": [
        "(14946, 5)\n"
       ]
      },
      {
       "html": [
        "<div style=\"max-height:1000px;max-width:1500px;overflow:auto;\">\n",
        "<table border=\"1\" class=\"dataframe\">\n",
        "  <thead>\n",
        "    <tr style=\"text-align: right;\">\n",
        "      <th></th>\n",
        "      <th>samples</th>\n",
        "      <th>symbol</th>\n",
        "      <th>Mutation</th>\n",
        "      <th>CNA Status</th>\n",
        "      <th>Expression</th>\n",
        "    </tr>\n",
        "  </thead>\n",
        "  <tbody>\n",
        "    <tr>\n",
        "      <th>0</th>\n",
        "      <td> TCGA-02-0047</td>\n",
        "      <td>   ABCB1</td>\n",
        "      <td>NaN</td>\n",
        "      <td>NaN</td>\n",
        "      <td> 0.132</td>\n",
        "    </tr>\n",
        "    <tr>\n",
        "      <th>1</th>\n",
        "      <td> TCGA-02-0047</td>\n",
        "      <td>  ACVR1B</td>\n",
        "      <td>NaN</td>\n",
        "      <td>NaN</td>\n",
        "      <td> 0.078</td>\n",
        "    </tr>\n",
        "    <tr>\n",
        "      <th>2</th>\n",
        "      <td> TCGA-02-0047</td>\n",
        "      <td>   ADCY1</td>\n",
        "      <td>NaN</td>\n",
        "      <td>NaN</td>\n",
        "      <td> 0.383</td>\n",
        "    </tr>\n",
        "    <tr>\n",
        "      <th>3</th>\n",
        "      <td> TCGA-02-0047</td>\n",
        "      <td> ADORA2A</td>\n",
        "      <td>NaN</td>\n",
        "      <td>NaN</td>\n",
        "      <td>-0.209</td>\n",
        "    </tr>\n",
        "    <tr>\n",
        "      <th>4</th>\n",
        "      <td> TCGA-02-0047</td>\n",
        "      <td>  AHNAK2</td>\n",
        "      <td>NaN</td>\n",
        "      <td>NaN</td>\n",
        "      <td>-0.101</td>\n",
        "    </tr>\n",
        "  </tbody>\n",
        "</table>\n",
        "<p>5 rows \u00d7 5 columns</p>\n",
        "</div>"
       ],
       "metadata": {},
       "output_type": "pyout",
       "prompt_number": 1,
       "text": [
        "        samples   symbol  Mutation  CNA Status  Expression\n",
        "0  TCGA-02-0047    ABCB1       NaN         NaN       0.132\n",
        "1  TCGA-02-0047   ACVR1B       NaN         NaN       0.078\n",
        "2  TCGA-02-0047    ADCY1       NaN         NaN       0.383\n",
        "3  TCGA-02-0047  ADORA2A       NaN         NaN      -0.209\n",
        "4  TCGA-02-0047   AHNAK2       NaN         NaN      -0.101\n",
        "\n",
        "[5 rows x 5 columns]"
       ]
      }
     ],
     "prompt_number": 1
    },
    {
     "cell_type": "code",
     "collapsed": false,
     "input": [
      "from jheatmap import JHeatmap\n",
      "\n",
      "init_config = \"heatmap.cells.decorators['Mutation'] = new jheatmap.decorators.Categorical({ \\\n",
      "                                values: ['0.0','1.0'],  \\\n",
      "                                colors : ['white','green'] \\\n",
      "                });\\\n",
      "               heatmap.cells.decorators['CNA Status'] = new jheatmap.decorators.Categorical({\\\n",
      "                               values: ['-2.0', '2.0'], \\\n",
      "                               colors : ['pink', 'orange']});\"\n",
      "\n",
      "jh = JHeatmap(values_df,rows=[\"samples\"],cols=[\"symbol\"], init_config=init_config)"
     ],
     "language": "python",
     "metadata": {},
     "outputs": [],
     "prompt_number": 2
    },
    {
     "cell_type": "code",
     "collapsed": false,
     "input": [
      "jh.show()\n"
     ],
     "language": "python",
     "metadata": {},
     "outputs": [
      {
       "javascript": [
        "require([\"widgets/js/manager\", \"jheatmap/dependencies/jheatmap/js/jheatmap-1.0.0.js\", \"jheatmap/widget_jheatmap.js\"],\n",
        "function(WidgetManager){\n",
        "    // Register the widget with the widget manager.\n",
        "    var widget = getJHeatmapWidgetInstance(WidgetManager);\n",
        "    WidgetManager.register_widget_view('JHeatmapWidget', widget);\n",
        "});"
       ],
       "metadata": {},
       "output_type": "display_data",
       "text": [
        "<IPython.core.display.Javascript at 0x7f1721457810>"
       ]
      }
     ],
     "prompt_number": 3
    },
    {
     "cell_type": "code",
     "collapsed": false,
     "input": [
      "jh.exec_js(\"heatmap.cells.decorators['Mutation'] = new jheatmap.decorators.Categorical({ \\\n",
      "                                values: ['0.0','1.0'],  \\\n",
      "                                colors : ['white','green'] \\\n",
      "                })\")\n",
      "jh.exec_js(\"heatmap.cells.reindex(heatmap)\")"
     ],
     "language": "python",
     "metadata": {},
     "outputs": [],
     "prompt_number": 4
    },
    {
     "cell_type": "code",
     "collapsed": false,
     "input": [
      "jh.exec_js(\"heatmap.cells.decorators['Mutation'] = new jheatmap.decorators.Categorical({ \\\n",
      "                                values: ['0.0','1.0'],  \\\n",
      "                                colors : ['grey','blue'] \\\n",
      "                }); \\\n",
      "           heatmap.cells.reindex(heatmap);\")\n"
     ],
     "language": "python",
     "metadata": {},
     "outputs": [],
     "prompt_number": 5
    },
    {
     "cell_type": "code",
     "collapsed": false,
     "input": [
      "p = jh.get_popup()\n",
      "display(p)"
     ],
     "language": "python",
     "metadata": {},
     "outputs": [
      {
       "ename": "AttributeError",
       "evalue": "'JHeatmap' object has no attribute 'get_popup'",
       "output_type": "pyerr",
       "traceback": [
        "\u001b[1;31m---------------------------------------------------------------------------\u001b[0m\n\u001b[1;31mAttributeError\u001b[0m                            Traceback (most recent call last)",
        "\u001b[1;32m<ipython-input-9-3680f6003113>\u001b[0m in \u001b[0;36m<module>\u001b[1;34m()\u001b[0m\n\u001b[1;32m----> 1\u001b[1;33m \u001b[0mp\u001b[0m \u001b[1;33m=\u001b[0m \u001b[0mjh\u001b[0m\u001b[1;33m.\u001b[0m\u001b[0mget_popup\u001b[0m\u001b[1;33m(\u001b[0m\u001b[1;33m)\u001b[0m\u001b[1;33m\u001b[0m\u001b[0m\n\u001b[0m\u001b[0;32m      2\u001b[0m \u001b[0mdisplay\u001b[0m\u001b[1;33m(\u001b[0m\u001b[0mp\u001b[0m\u001b[1;33m)\u001b[0m\u001b[1;33m\u001b[0m\u001b[0m\n",
        "\u001b[1;31mAttributeError\u001b[0m: 'JHeatmap' object has no attribute 'get_popup'"
       ]
      }
     ],
     "prompt_number": 9
    },
    {
     "cell_type": "code",
     "collapsed": false,
     "input": [
      "from IPython.html import widgets\n",
      "from IPython.display import display, Javascript\n",
      "\n",
      "modalJH = JHeatmap(values_df,rows=[\"symbol\"],cols=[\"samples\"])\n",
      "popup = widgets.PopupWidget()\n",
      "popup.description = \"JHeatmap\"\n",
      "popup.button_text = \"Show heatmap\"\n",
      "#popup.set_css({'width': '420px', 'height': '350px'}, selector='modal')\n",
      "popup.children = [modalJH]\n",
      "display(popup)\n"
     ],
     "language": "python",
     "metadata": {},
     "outputs": [],
     "prompt_number": 9
    },
    {
     "cell_type": "code",
     "collapsed": false,
     "input": [
      "display(popup)\n"
     ],
     "language": "python",
     "metadata": {},
     "outputs": [],
     "prompt_number": 10
    },
    {
     "cell_type": "code",
     "collapsed": false,
     "input": [
      "modalJH.redraw()"
     ],
     "language": "python",
     "metadata": {},
     "outputs": [
      {
       "ename": "AttributeError",
       "evalue": "'JHeatmap' object has no attribute 'redraw'",
       "output_type": "pyerr",
       "traceback": [
        "\u001b[1;31m---------------------------------------------------------------------------\u001b[0m\n\u001b[1;31mAttributeError\u001b[0m                            Traceback (most recent call last)",
        "\u001b[1;32m<ipython-input-11-d5226d4e9a5b>\u001b[0m in \u001b[0;36m<module>\u001b[1;34m()\u001b[0m\n\u001b[1;32m----> 1\u001b[1;33m \u001b[0mmodalJH\u001b[0m\u001b[1;33m.\u001b[0m\u001b[0mredraw\u001b[0m\u001b[1;33m(\u001b[0m\u001b[1;33m)\u001b[0m\u001b[1;33m\u001b[0m\u001b[0m\n\u001b[0m",
        "\u001b[1;31mAttributeError\u001b[0m: 'JHeatmap' object has no attribute 'redraw'"
       ]
      }
     ],
     "prompt_number": 11
    },
    {
     "cell_type": "code",
     "collapsed": false,
     "input": [
      "popup.widgets"
     ],
     "language": "python",
     "metadata": {},
     "outputs": [
      {
       "metadata": {},
       "output_type": "pyout",
       "prompt_number": 12,
       "text": [
        "{'8dd01016b778419e8e80d2a579c9855e': <IPython.html.widgets.widget_container.PopupWidget at 0x7f0a78e1f050>,\n",
        " 'b1fb0fbcc292449dae6129f47ea44815': <widget_jheatmap.JHeatmap at 0x7f0a5b0b1c10>,\n",
        " '3ab921ebc9e945aaa9d69512d8923bac': <IPython.html.widgets.widget_container.PopupWidget at 0x7f0a5b0b9090>,\n",
        " 'e6676db9627a4489bc813f62346c5bbe': <widget_jheatmap.JHeatmap at 0x7f0a78dfd510>}"
       ]
      }
     ],
     "prompt_number": 12
    },
    {
     "cell_type": "code",
     "collapsed": false,
     "input": [
      "from IPython.html import widgets\n",
      "from jheatmap import JHeatmap\n",
      "from IPython.display import display, Javascript"
     ],
     "language": "python",
     "metadata": {},
     "outputs": [],
     "prompt_number": 2
    },
    {
     "cell_type": "code",
     "collapsed": false,
     "input": [
      "#jhp = JHeatmap(values_df,rows=[\"samples\"],cols=[\"symbol\"], autoshow=False)\n",
      "jh2 = JHeatmap(values_df,rows=[\"samples\"],cols=[\"symbol\"], popup=False)\n",
      "b = widgets.ButtonWidget()\n",
      "t = widgets.TextareaWidget()\n",
      "popup = widgets.PopupWidget()\n",
      "popup.children=[b,t, jh2]"
     ],
     "language": "python",
     "metadata": {},
     "outputs": [],
     "prompt_number": 3
    },
    {
     "cell_type": "code",
     "collapsed": false,
     "input": [
      "display(popup)"
     ],
     "language": "python",
     "metadata": {},
     "outputs": [],
     "prompt_number": 4
    },
    {
     "cell_type": "code",
     "collapsed": false,
     "input": [
      "JHeatmap(values_df,rows=[\"samples\"],cols=[\"symbol\"])"
     ],
     "language": "python",
     "metadata": {},
     "outputs": [
      {
       "javascript": [
        "require([\"widgets/js/manager\", \"jheatmap/js/jheatmap-1.0.0.js\", \"widget_jheatmap.js\"],\n",
        "function(WidgetManager){\n",
        "    // Register the widget with the widget manager.\n",
        "    var widget = getJHeatmapWidgetInstance(WidgetManager);\n",
        "    WidgetManager.register_widget_view('JHeatmapWidget', widget);\n",
        "});"
       ],
       "metadata": {},
       "output_type": "display_data",
       "text": [
        "<IPython.core.display.Javascript at 0x7f8dde71e490>"
       ]
      },
      {
       "output_type": "stream",
       "stream": "stderr",
       "text": [
        "  File \"/home/mschroeder/.local/lib/python3.3/site-packages/tornado/stack_context.py\", line 275, in null_wrapper\n",
        "    return fn(*args, **kwargs)\n",
        "  File \"/home/mschroeder/.local/lib/python3.3/site-packages/IPython/kernel/zmq/ipkernel.py\", line 281, in dispatcher\n",
        "    return self.dispatch_shell(stream, msg)\n",
        "  File \"/home/mschroeder/.local/lib/python3.3/site-packages/IPython/kernel/zmq/ipkernel.py\", line 245, in dispatch_shell\n",
        "    handler(stream, idents, msg)\n",
        "  File \"/home/mschroeder/.local/lib/python3.3/site-packages/IPython/kernel/zmq/ipkernel.py\", line 389, in execute_request\n",
        "    shell.run_cell(code, store_history=store_history, silent=silent)\n",
        "  File \"/home/mschroeder/.local/lib/python3.3/site-packages/IPython/core/interactiveshell.py\", line 2741, in run_cell\n",
        "    interactivity=interactivity, compiler=compiler)\n",
        "  File \"/home/mschroeder/.local/lib/python3.3/site-packages/IPython/core/interactiveshell.py\", line 2833, in run_ast_nodes\n",
        "    if self.run_code(code):\n",
        "  File \"/home/mschroeder/.local/lib/python3.3/site-packages/IPython/core/interactiveshell.py\", line 2883, in run_code\n",
        "    exec(code_obj, self.user_global_ns, self.user_ns)\n",
        "  File \"<ipython-input-4-74aa8b6bcb47>\", line 1, in <module>\n",
        "    JHeatmap(values_df,rows=[\"samples\"],cols=[\"symbol\"])\n",
        "  File \"/home/mschroeder/.local/lib/python3.3/site-packages/IPython/core/displayhook.py\", line 246, in __call__\n",
        "    return display_method()\n",
        "  File \"./widget_jheatmap.py\", line 105, in _ipython_display_\n",
        "    traceback.print_stack(limit=10)\n"
       ]
      }
     ],
     "prompt_number": 4
    },
    {
     "cell_type": "code",
     "collapsed": false,
     "input": [
      "j = JHeatmap(values_df,rows=[\"samples\"],cols=[\"symbol\"])\n",
      "display(j)"
     ],
     "language": "python",
     "metadata": {},
     "outputs": [
      {
       "javascript": [
        "require([\"widgets/js/manager\", \"jheatmap/js/jheatmap-1.0.0.js\", \"widget_jheatmap.js\"],\n",
        "function(WidgetManager){\n",
        "    // Register the widget with the widget manager.\n",
        "    var widget = getJHeatmapWidgetInstance(WidgetManager);\n",
        "    WidgetManager.register_widget_view('JHeatmapWidget', widget);\n",
        "});"
       ],
       "metadata": {},
       "output_type": "display_data",
       "text": [
        "<IPython.core.display.Javascript at 0x7f8dde58df90>"
       ]
      },
      {
       "output_type": "stream",
       "stream": "stderr",
       "text": [
        "  File \"/home/mschroeder/.local/lib/python3.3/site-packages/tornado/stack_context.py\", line 275, in null_wrapper\n",
        "    return fn(*args, **kwargs)\n",
        "  File \"/home/mschroeder/.local/lib/python3.3/site-packages/IPython/kernel/zmq/ipkernel.py\", line 281, in dispatcher\n",
        "    return self.dispatch_shell(stream, msg)\n",
        "  File \"/home/mschroeder/.local/lib/python3.3/site-packages/IPython/kernel/zmq/ipkernel.py\", line 245, in dispatch_shell\n",
        "    handler(stream, idents, msg)\n",
        "  File \"/home/mschroeder/.local/lib/python3.3/site-packages/IPython/kernel/zmq/ipkernel.py\", line 389, in execute_request\n",
        "    shell.run_cell(code, store_history=store_history, silent=silent)\n",
        "  File \"/home/mschroeder/.local/lib/python3.3/site-packages/IPython/core/interactiveshell.py\", line 2741, in run_cell\n",
        "    interactivity=interactivity, compiler=compiler)\n",
        "  File \"/home/mschroeder/.local/lib/python3.3/site-packages/IPython/core/interactiveshell.py\", line 2833, in run_ast_nodes\n",
        "    if self.run_code(code):\n",
        "  File \"/home/mschroeder/.local/lib/python3.3/site-packages/IPython/core/interactiveshell.py\", line 2883, in run_code\n",
        "    exec(code_obj, self.user_global_ns, self.user_ns)\n",
        "  File \"<ipython-input-7-ea0e60ae91da>\", line 2, in <module>\n",
        "    display(j)\n",
        "  File \"/home/mschroeder/.local/lib/python3.3/site-packages/IPython/core/display.py\", line 123, in display\n",
        "    display_method(**kwargs)\n",
        "  File \"./widget_jheatmap.py\", line 105, in _ipython_display_\n",
        "    traceback.print_stack(limit=10)\n"
       ]
      }
     ],
     "prompt_number": 7
    },
    {
     "cell_type": "code",
     "collapsed": false,
     "input": [],
     "language": "python",
     "metadata": {},
     "outputs": []
    }
   ],
   "metadata": {}
  }
 ]
}